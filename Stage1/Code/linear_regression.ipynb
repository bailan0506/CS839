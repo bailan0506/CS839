{
 "cells": [
  {
   "cell_type": "code",
   "execution_count": 1,
   "metadata": {},
   "outputs": [
    {
     "name": "stdout",
     "output_type": "stream",
     "text": [
      "E:\\18Spring\\CS839\\Stage1\\CS839_1\\Stage1\\Code\n"
     ]
    }
   ],
   "source": [
    "#cd E:\\18Spring\\CS839\\Stage1\\CS839_1\\Stage1\\Code"
   ]
  },
  {
   "cell_type": "code",
   "execution_count": 14,
   "metadata": {
    "collapsed": true,
    "scrolled": true
   },
   "outputs": [],
   "source": [
    "import os\n",
    "import sys\n",
    "#from sklearn import svm\n",
    "import matplotlib.pyplot as plt\n",
    "import numpy as np\n",
    "from sklearn import datasets, linear_model\n",
    "from sklearn.model_selection import train_test_split\n",
    "\n",
    "\n",
    "fid = './train.txt';\n",
    "f = open(fid);\n",
    "X_train = []; Y_train = [];\n",
    "while 1:\n",
    "\tx = f.readline();\n",
    "\tif not x:\n",
    "\t\tbreak;\n",
    "\tx = x.rstrip('\\n');\n",
    "\tx = x.split(',');\n",
    "\tx = [float(x[i]) for i in range(len(x))];\n",
    "\ty = f.readline();\n",
    "\ty = y.rstrip('\\n');\n",
    "\ty = float(y);\n",
    "\tX_train.append(x);\n",
    "\tY_train.append(y);\n",
    "f.close();\n",
    "\n",
    "\n",
    "fid = './test.txt';\n",
    "f = open(fid);\n",
    "X_test = []; Y_test = [];\n",
    "while 1:\n",
    "\tx = f.readline();\n",
    "\tif not x:\n",
    "\t\tbreak;\n",
    "\tx = x.rstrip('\\n');\n",
    "\tx = x.split(',');\n",
    "\tx = [float(x[i]) for i in range(len(x))];\n",
    "\ty = f.readline();\n",
    "\ty = y.rstrip('\\n');\n",
    "\ty = float(y);\n",
    "\tX_test.append(x);\n",
    "\tY_test.append(y);\n",
    "f.close();\n",
    "# Split the data into training/testing sets\n",
    "#X_train = X[:-1130]\n",
    "#X_test = X[-1130:]\n",
    "\n",
    "# Split the targets into training/testing sets\n",
    "#Y = [int(y>0) for y in Y]\n",
    "#split\n",
    "#X_train, X_test, Y_train, Y_test = train_test_split(X, Y, test_size=0.2, random_state=42)\n",
    "\n",
    "# Create linear regression object\n",
    "\n",
    "Y_train = [int(y>0) for y in Y_train]\n",
    "Y_test = [int(y>0) for y in Y_test]\n",
    "regr = linear_model.LinearRegression()\n",
    "\n",
    "\n",
    "\n",
    "# Train the model using the training sets\n",
    "regr.fit(X_train, Y_train)\n",
    "\n",
    "Y_predict = regr.predict(X_test) \n",
    "\n",
    "\n",
    "\n",
    "\n"
   ]
  },
  {
   "cell_type": "code",
   "execution_count": 15,
   "metadata": {},
   "outputs": [
    {
     "name": "stdout",
     "output_type": "stream",
     "text": [
      "test result, p, r, and f1 0.974489795918 0.598746081505 0.741747572816\n"
     ]
    }
   ],
   "source": [
    "from sklearn.model_selection import cross_val_score\n",
    "from sklearn import metrics\n",
    "threshold = 0.8\n",
    "Y_predict = [int(y>threshold) for y in Y_predict]\n",
    "p = metrics.precision_score(Y_test, Y_predict)\n",
    "r = metrics.recall_score(Y_test,Y_predict)\n",
    "f1 = metrics.f1_score(Y_test,Y_predict)\n",
    "print \"test result, p, r, and f1\", p,r, f1"
   ]
  },
  {
   "cell_type": "code",
   "execution_count": 16,
   "metadata": {},
   "outputs": [
    {
     "name": "stdout",
     "output_type": "stream",
     "text": [
      "cross validation: p average,  0.968344207176\n",
      "cross validation: r average,  0.632078566743\n",
      "cross validation: f1 average,  0.75361778804\n"
     ]
    }
   ],
   "source": [
    "#cross validation\n",
    "from sklearn.utils import shuffle\n",
    "X_train, Y_train = shuffle(X_train,Y_train)\n",
    "train_size = len(X_train)\n",
    "#print train_size\n",
    "subset_size = train_size/5\n",
    "#print subset_size\n",
    "p_list = []\n",
    "r_list = []\n",
    "f1_list = []\n",
    "for i in range(0, 5):\n",
    "    regr = linear_model.LinearRegression()\n",
    "    cv_train_X = X_train[0:i*subset_size] +  X_train[(i+1)*subset_size:]\n",
    "    cv_train_Y = Y_train[0:i*subset_size] +  Y_train[(i+1)*subset_size:]\n",
    "    cv_test_X = X_train[i*subset_size:(i+1)*subset_size]\n",
    "    cv_test_Y = Y_train[i*subset_size:(i+1)*subset_size]\n",
    "    #print len(cv_train_X), len(cv_train_Y),len(cv_test_X),len(cv_test_Y)\n",
    "    regr.fit(cv_train_X, cv_train_Y)\n",
    "    cv_predict = regr.predict(cv_test_X)\n",
    "    cv_predict = [int(y>threshold) for y in cv_predict]\n",
    "    #print cv_test_Y[0:100]\n",
    "    #print cv_predict[0:100]\n",
    "    p_list.append(metrics.precision_score(cv_test_Y, cv_predict))\n",
    "    r_list.append(metrics.recall_score(cv_test_Y, cv_predict))\n",
    "    f1_list.append(metrics.f1_score(cv_test_Y, cv_predict))\n",
    "print \"cross validation: p average, \",np.average(p_list)\n",
    "print \"cross validation: r average, \",np.average(r_list)\n",
    "print \"cross validation: f1 average, \",np.average(f1_list)\n"
   ]
  },
  {
   "cell_type": "code",
   "execution_count": null,
   "metadata": {
    "collapsed": true
   },
   "outputs": [],
   "source": []
  },
  {
   "cell_type": "code",
   "execution_count": null,
   "metadata": {
    "collapsed": true
   },
   "outputs": [],
   "source": []
  }
 ],
 "metadata": {
  "kernelspec": {
   "display_name": "Python 2",
   "language": "python",
   "name": "python2"
  },
  "language_info": {
   "codemirror_mode": {
    "name": "ipython",
    "version": 2
   },
   "file_extension": ".py",
   "mimetype": "text/x-python",
   "name": "python",
   "nbconvert_exporter": "python",
   "pygments_lexer": "ipython2",
   "version": "2.7.14"
  }
 },
 "nbformat": 4,
 "nbformat_minor": 2
}
