{
 "cells": [
  {
   "cell_type": "code",
   "execution_count": 2,
   "metadata": {},
   "outputs": [
    {
     "name": "stdout",
     "output_type": "stream",
     "text": [
      "E:\\18Spring\\CS839\\Stage1\\CS839_1\\Code\n"
     ]
    }
   ],
   "source": [
    "cd E:\\18Spring\\CS839\\Stage1\\CS839_1\\Code"
   ]
  },
  {
   "cell_type": "code",
   "execution_count": 12,
   "metadata": {
    "scrolled": true
   },
   "outputs": [],
   "source": [
    "import os\n",
    "import sys\n",
    "#from sklearn import svm\n",
    "import matplotlib.pyplot as plt\n",
    "import numpy as np\n",
    "from sklearn import datasets, linear_model,svm\n",
    "from sklearn.model_selection import train_test_split\n",
    "\n",
    "\n",
    "fid = './train.txt';\n",
    "f = open(fid);\n",
    "X_train = []; Y_train = [];\n",
    "while 1:\n",
    "\tx = f.readline();\n",
    "\tif not x:\n",
    "\t\tbreak;\n",
    "\tx = x.rstrip('\\n');\n",
    "\tx = x.split(',');\n",
    "\tx = [float(x[i]) for i in range(len(x))];\n",
    "\ty = f.readline();\n",
    "\ty = y.rstrip('\\n');\n",
    "\ty = float(y);\n",
    "\tX_train.append(x);\n",
    "\tY_train.append(y);\n",
    "f.close();\n",
    "\n",
    "\n",
    "fid = './test.txt';\n",
    "f = open(fid);\n",
    "X_test = []; Y_test = [];\n",
    "while 1:\n",
    "\tx = f.readline();\n",
    "\tif not x:\n",
    "\t\tbreak;\n",
    "\tx = x.rstrip('\\n');\n",
    "\tx = x.split(',');\n",
    "\tx = [float(x[i]) for i in range(len(x))];\n",
    "\ty = f.readline();\n",
    "\ty = y.rstrip('\\n');\n",
    "\ty = float(y);\n",
    "\tX_test.append(x);\n",
    "\tY_test.append(y);\n",
    "f.close();\n",
    "\n",
    "# fid = './Input.txt';\n",
    "# f = open(fid);\n",
    "# X = []; Y = [];\n",
    "# while 1:\n",
    "# \tx = f.readline();\n",
    "# \tif not x:\n",
    "# \t\tbreak;\n",
    "# \tx = x.rstrip('\\n');\n",
    "# \tx = x.split(',');\n",
    "# \tx = [float(x[i]) for i in range(len(x))];\n",
    "# \ty = f.readline();\n",
    "# \ty = y.rstrip('\\n');\n",
    "# \ty = float(y);\n",
    "# \tX.append(x);\n",
    "# \tY.append(y);\n",
    "# f.close();\n",
    "\n",
    "# Split the data into training/testing sets\n",
    "#X_train = X[:-1130]\n",
    "#X_test = X[-1130:]\n",
    "\n",
    "# Split the targets into training/testing sets\n",
    "#Y = [int(y>0) for y in Y]\n",
    "#split\n",
    "#X_train, X_test, Y_train, Y_test = train_test_split(X, Y, test_size=0.2, random_state=42)\n",
    "\n",
    "# Create linear regression object\n",
    "clf = svm.SVC(kernel='rbf', C=1, random_state=0, tol=1e-14)\n",
    "\n",
    "\n",
    "\n",
    "# Train the model using the training sets\n",
    "#regr.fit(X_train, Y_train)\n",
    "\n",
    "#Y_predict = regr.predict(X_test)\n",
    "\n",
    "\n",
    "\n",
    "\n"
   ]
  },
  {
   "cell_type": "code",
   "execution_count": 13,
   "metadata": {},
   "outputs": [
    {
     "name": "stdout",
     "output_type": "stream",
     "text": [
      "[ 0.8962903   0.89217455  0.89322034  0.86354327  0.89593438]\n",
      "[ 0.88981285  0.89073227  0.88634868  0.85032895  0.88601974]\n",
      "[ 0.89940828  0.89634146  0.89614243  0.86705202  0.8973607 ]\n"
     ]
    }
   ],
   "source": [
    "from sklearn.model_selection import cross_validate\n",
    "from sklearn.metrics import recall_score\n",
    "scoring = ['precision_macro', 'recall_macro', 'f1']\n",
    "scores = cross_validate(clf, X_train, Y_train, scoring=scoring,cv=5, return_train_score=False)\n",
    "sorted(scores.keys())\n",
    "print scores['test_precision_macro']  \n",
    "print scores['test_recall_macro']\n",
    "print scores['test_f1']"
   ]
  },
  {
   "cell_type": "code",
   "execution_count": null,
   "metadata": {
    "collapsed": true
   },
   "outputs": [],
   "source": []
  },
  {
   "cell_type": "code",
   "execution_count": null,
   "metadata": {
    "collapsed": true
   },
   "outputs": [],
   "source": []
  }
 ],
 "metadata": {
  "kernelspec": {
   "display_name": "Python 2",
   "language": "python",
   "name": "python2"
  },
  "language_info": {
   "codemirror_mode": {
    "name": "ipython",
    "version": 2
   },
   "file_extension": ".py",
   "mimetype": "text/x-python",
   "name": "python",
   "nbconvert_exporter": "python",
   "pygments_lexer": "ipython2",
   "version": "2.7.14"
  }
 },
 "nbformat": 4,
 "nbformat_minor": 2
}
