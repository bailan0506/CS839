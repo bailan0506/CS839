{
 "cells": [
  {
   "cell_type": "code",
   "execution_count": 1,
   "metadata": {},
   "outputs": [
    {
     "name": "stdout",
     "output_type": "stream",
     "text": [
      "E:\\18Spring\\CS839\\Stage1\\CS839_1\\Code\n"
     ]
    }
   ],
   "source": [
    "#cd E:\\18Spring\\CS839\\Stage1\\CS839_1\\Code"
   ]
  },
  {
   "cell_type": "code",
   "execution_count": 8,
   "metadata": {
    "collapsed": true,
    "scrolled": true
   },
   "outputs": [],
   "source": [
    "import os\n",
    "import sys\n",
    "#from sklearn import svm\n",
    "import matplotlib.pyplot as plt\n",
    "import numpy as np\n",
    "from sklearn import datasets, linear_model,svm\n",
    "from sklearn.model_selection import train_test_split\n",
    "\n",
    "\n",
    "fid = './Input.txt';\n",
    "f = open(fid);\n",
    "X = []; Y = [];\n",
    "while 1:\n",
    "\tx = f.readline();\n",
    "\tif not x:\n",
    "\t\tbreak;\n",
    "\tx = x.rstrip('\\n');\n",
    "\tx = x.split(',');\n",
    "\tx = [float(x[i]) for i in range(len(x))];\n",
    "\ty = f.readline();\n",
    "\ty = y.rstrip('\\n');\n",
    "\ty = float(y);\n",
    "\tX.append(x);\n",
    "\tY.append(y);\n",
    "f.close();\n",
    "\n",
    "# Split the data into training/testing sets\n",
    "#X_train = X[:-1130]\n",
    "#X_test = X[-1130:]\n",
    "\n",
    "# Split the targets into training/testing sets\n",
    "Y = [int(y>0) for y in Y]\n",
    "#split\n",
    "X_train, X_test, Y_train, Y_test = train_test_split(X, Y, test_size=0.2, random_state=42)\n",
    "\n",
    "# Create linear regression object\n",
    "clf = svm.SVC(kernel='rbf', C=100, random_state=0, tol=1e-12)\n",
    "\n",
    "\n",
    "\n",
    "# Train the model using the training sets\n",
    "#regr.fit(X_train, Y_train)\n",
    "\n",
    "#Y_predict = regr.predict(X_test)\n",
    "\n",
    "\n",
    "\n",
    "\n"
   ]
  },
  {
   "cell_type": "code",
   "execution_count": 9,
   "metadata": {},
   "outputs": [
    {
     "name": "stdout",
     "output_type": "stream",
     "text": [
      "[ 0.8566038   0.84052223  0.84204617  0.81366939  0.82546744]\n",
      "[ 0.82120361  0.80734812  0.80971779  0.78492576  0.78998995]\n"
     ]
    }
   ],
   "source": [
    "from sklearn.model_selection import cross_validate\n",
    "from sklearn.metrics import recall_score\n",
    "scoring = ['precision_macro', 'recall_macro']\n",
    "scores = cross_validate(clf, X_train, Y_train, scoring=scoring,cv=5, return_train_score=False)\n",
    "sorted(scores.keys())\n",
    "print scores['test_precision_macro']  \n",
    "print scores['test_recall_macro']"
   ]
  },
  {
   "cell_type": "code",
   "execution_count": null,
   "metadata": {
    "collapsed": true
   },
   "outputs": [],
   "source": []
  },
  {
   "cell_type": "code",
   "execution_count": null,
   "metadata": {
    "collapsed": true
   },
   "outputs": [],
   "source": []
  }
 ],
 "metadata": {
  "kernelspec": {
   "display_name": "Python 2",
   "language": "python",
   "name": "python2"
  },
  "language_info": {
   "codemirror_mode": {
    "name": "ipython",
    "version": 2
   },
   "file_extension": ".py",
   "mimetype": "text/x-python",
   "name": "python",
   "nbconvert_exporter": "python",
   "pygments_lexer": "ipython2",
   "version": "2.7.14"
  }
 },
 "nbformat": 4,
 "nbformat_minor": 2
}
