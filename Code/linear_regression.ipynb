{
 "cells": [
  {
   "cell_type": "code",
   "execution_count": 15,
   "metadata": {},
   "outputs": [
    {
     "name": "stdout",
     "output_type": "stream",
     "text": [
      "E:\\18Spring\\CS839\\Stage1\\CS839_1\\Code\n"
     ]
    }
   ],
   "source": [
    "cd E:\\18Spring\\CS839\\Stage1\\CS839_1\\Code"
   ]
  },
  {
   "cell_type": "code",
   "execution_count": 16,
   "metadata": {
    "collapsed": true,
    "scrolled": true
   },
   "outputs": [],
   "source": [
    "import os\n",
    "import sys\n",
    "#from sklearn import svm\n",
    "import matplotlib.pyplot as plt\n",
    "import numpy as np\n",
    "from sklearn import datasets, linear_model\n",
    "from sklearn.model_selection import train_test_split\n",
    "\n",
    "\n",
    "fid = './Input.txt';\n",
    "f = open(fid);\n",
    "X = []; Y = [];\n",
    "while 1:\n",
    "\tx = f.readline();\n",
    "\tif not x:\n",
    "\t\tbreak;\n",
    "\tx = x.rstrip('\\n');\n",
    "\tx = x.split(',');\n",
    "\tx = [float(x[i]) for i in range(len(x))];\n",
    "\ty = f.readline();\n",
    "\ty = y.rstrip('\\n');\n",
    "\ty = float(y);\n",
    "\tX.append(x);\n",
    "\tY.append(y);\n",
    "f.close();\n",
    "\n",
    "# Split the data into training/testing sets\n",
    "#X_train = X[:-1130]\n",
    "#X_test = X[-1130:]\n",
    "\n",
    "# Split the targets into training/testing sets\n",
    "Y = [int(y>0) for y in Y]\n",
    "#split\n",
    "X_train, X_test, Y_train, Y_test = train_test_split(X, Y, test_size=0.2, random_state=42)\n",
    "\n",
    "# Create linear regression object\n",
    "regr = linear_model.LinearRegression()\n",
    "\n",
    "\n",
    "\n",
    "# Train the model using the training sets\n",
    "regr.fit(X_train, Y_train)\n",
    "\n",
    "Y_predict = regr.predict(X_test)\n",
    "\n",
    "\n",
    "\n",
    "\n"
   ]
  },
  {
   "cell_type": "code",
   "execution_count": 17,
   "metadata": {},
   "outputs": [
    {
     "name": "stdout",
     "output_type": "stream",
     "text": [
      "0.8225 0.854545454545\n"
     ]
    }
   ],
   "source": [
    "from sklearn.model_selection import cross_val_score\n",
    "from sklearn import metrics\n",
    "threshold = 0.73\n",
    "Y_predict = [int(y>threshold) for y in Y_predict]\n",
    "p = metrics.precision_score(Y_test, Y_predict)\n",
    "r = metrics.recall_score(Y_test,Y_predict)\n",
    "print p, r"
   ]
  },
  {
   "cell_type": "code",
   "execution_count": 18,
   "metadata": {},
   "outputs": [
    {
     "name": "stdout",
     "output_type": "stream",
     "text": [
      "[0.8162650602409639, 0.82369146005509641, 0.82571428571428573, 0.79714285714285715, 0.81717451523545703]\n",
      "[0.83128834355828218, 0.89253731343283582, 0.87575757575757573, 0.85321100917431192, 0.87797619047619047]\n",
      "[0.82370820668693012, 0.85673352435530081, 0.84999999999999998, 0.82422451994091583, 0.84648493543758963]\n"
     ]
    }
   ],
   "source": [
    "#cross validation\n",
    "train_size = len(X_train)\n",
    "subset_size = train_size/5\n",
    "p_list = []\n",
    "r_list = []\n",
    "f1_list = []\n",
    "for i in range(0, 5):\n",
    "    regr = linear_model.LinearRegression()\n",
    "    cv_train_X = X_train[0:i*subset_size] +  X_train[(i+1)*subset_size:]\n",
    "    cv_train_Y = Y_train[0:i*subset_size] +  Y_train[(i+1)*subset_size:]\n",
    "    cv_test_X = X_train[i*subset_size:(i+1)*subset_size]\n",
    "    cv_test_Y = Y_train[i*subset_size:(i+1)*subset_size]\n",
    "    regr.fit(cv_train_X, cv_train_Y)\n",
    "    cv_predict = regr.predict(cv_test_X)\n",
    "    cv_predict = [int(y>threshold) for y in cv_predict]\n",
    "    p_list.append(metrics.precision_score(cv_test_Y, cv_predict))\n",
    "    r_list.append(metrics.recall_score(cv_test_Y, cv_predict))\n",
    "    f1_list.append(metrics.f1_score(cv_test_Y, cv_predict))\n",
    "print p_list\n",
    "print r_list\n",
    "print f1_list"
   ]
  },
  {
   "cell_type": "code",
   "execution_count": null,
   "metadata": {
    "collapsed": true
   },
   "outputs": [],
   "source": []
  }
 ],
 "metadata": {
  "kernelspec": {
   "display_name": "Python 2",
   "language": "python",
   "name": "python2"
  },
  "language_info": {
   "codemirror_mode": {
    "name": "ipython",
    "version": 2
   },
   "file_extension": ".py",
   "mimetype": "text/x-python",
   "name": "python",
   "nbconvert_exporter": "python",
   "pygments_lexer": "ipython2",
   "version": "2.7.14"
  }
 },
 "nbformat": 4,
 "nbformat_minor": 2
}
